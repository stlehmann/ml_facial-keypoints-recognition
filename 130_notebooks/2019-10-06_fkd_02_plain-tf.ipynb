{
 "cells": [
  {
   "cell_type": "markdown",
   "metadata": {},
   "source": [
    "# 2019-10-06_fkd_02_plain-tf"
   ]
  },
  {
   "cell_type": "code",
   "execution_count": 3,
   "metadata": {},
   "outputs": [
    {
     "name": "stdout",
     "output_type": "stream",
     "text": [
      "The autoreload extension is already loaded. To reload it, use:\n",
      "  %reload_ext autoreload\n"
     ]
    }
   ],
   "source": [
    "%load_ext autoreload\n",
    "%autoreload 2\n",
    "\n",
    "%matplotlib inline\n",
    "\n",
    "import sys\n",
    "import pathlib\n",
    "from typing import Union\n",
    "\n",
    "import matplotlib.pyplot as plt\n",
    "import numpy as np\n",
    "import pandas as pd\n",
    "import tensorflow as tf\n",
    "import ipywidgets as widgets\n",
    "from ipywidgets import interact\n",
    "from pyprojroot import here\n",
    "\n",
    "# import project specific modules\n",
    "src_p = here(\"110_src\")\n",
    "sys.path.insert(0, str(src_p))\n",
    "from util import load_data, plot_img, plot_facial_keypoints, train_p"
   ]
  },
  {
   "cell_type": "code",
   "execution_count": 2,
   "metadata": {},
   "outputs": [],
   "source": [
    "X_train, Y_train, X_test = load_data(labels=[\"nose_tip_x\", \"nose_tip_y\"])\n",
    "\n",
    "# do only use images until 2283 because the labels for later images are somehow inaccurate\n",
    "X_train = X_train[:2283]\n",
    "Y_train = Y_train[:2283]\n",
    "\n",
    "# normalize input and output data for faster training\n",
    "X_train = (X_train.astype(np.float32) / 255.0)\n",
    "Y_train = (Y_train.astype(np.float32) / 96.0)\n",
    "X_test = (X_test.astype(np.float32) / 255.0)"
   ]
  },
  {
   "cell_type": "code",
   "execution_count": null,
   "metadata": {},
   "outputs": [],
   "source": []
  }
 ],
 "metadata": {
  "kernelspec": {
   "display_name": "Python 3",
   "language": "python",
   "name": "python3"
  },
  "language_info": {
   "codemirror_mode": {
    "name": "ipython",
    "version": 3
   },
   "file_extension": ".py",
   "mimetype": "text/x-python",
   "name": "python",
   "nbconvert_exporter": "python",
   "pygments_lexer": "ipython3",
   "version": "3.7.4"
  }
 },
 "nbformat": 4,
 "nbformat_minor": 4
}
